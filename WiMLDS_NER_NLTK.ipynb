{
 "cells": [
  {
   "cell_type": "markdown",
   "metadata": {},
   "source": [
    "# Named Entity Recognition in NLTK\n",
    "\n"
   ]
  },
  {
   "cell_type": "code",
   "execution_count": 1,
   "metadata": {
    "scrolled": true
   },
   "outputs": [],
   "source": [
    "from nltk import ne_chunk\n",
    "from nltk.tag import pos_tag\n",
    "from nltk.tokenize import word_tokenize\n",
    "from nltk.chunk import tree2conlltags\n",
    "\n",
    "text = \"Zuzanna Kocur earned 42 dollars selling 2 shares of Google in 2018\"\n"
   ]
  },
  {
   "cell_type": "code",
   "execution_count": 2,
   "metadata": {},
   "outputs": [],
   "source": [
    "def print_prediction(text):\n",
    "    # tokenize text\n",
    "    tokens = word_tokenize(text)\n",
    "    print(\"Tokens:\")\n",
    "    print(tokens)\n",
    "    print()\n",
    "    \n",
    "    # tag parts of speech\n",
    "    pos_taggs = pos_tag(tokens)\n",
    "    print(\"Part of speech tagging:\")\n",
    "    print(pos_taggs)\n",
    "    print()\n",
    "    \n",
    "    # uses _currently recommended_ named entities chunker\n",
    "    entities = ne_chunk(pos_taggs)\n",
    "    print(\"Entities and parts of speech:\")\n",
    "    print(entities)\n",
    "    print()"
   ]
  },
  {
   "cell_type": "code",
   "execution_count": 3,
   "metadata": {},
   "outputs": [
    {
     "name": "stdout",
     "output_type": "stream",
     "text": [
      "Tokens:\n",
      "['Zuzanna', 'Kocur', 'earned', '42', 'dollars', 'selling', '2', 'shares', 'of', 'Google', 'in', '2018']\n",
      "\n",
      "Part of speech tagging:\n",
      "[('Zuzanna', 'NNP'), ('Kocur', 'NNP'), ('earned', 'VBD'), ('42', 'CD'), ('dollars', 'NNS'), ('selling', 'VBG'), ('2', 'CD'), ('shares', 'NNS'), ('of', 'IN'), ('Google', 'NNP'), ('in', 'IN'), ('2018', 'CD')]\n",
      "\n",
      "Entities and parts of speech:\n",
      "(S\n",
      "  (PERSON Zuzanna/NNP)\n",
      "  (PERSON Kocur/NNP)\n",
      "  earned/VBD\n",
      "  42/CD\n",
      "  dollars/NNS\n",
      "  selling/VBG\n",
      "  2/CD\n",
      "  shares/NNS\n",
      "  of/IN\n",
      "  (GPE Google/NNP)\n",
      "  in/IN\n",
      "  2018/CD)\n",
      "\n"
     ]
    }
   ],
   "source": [
    "print_prediction(text)\n"
   ]
  },
  {
   "cell_type": "code",
   "execution_count": null,
   "metadata": {},
   "outputs": [],
   "source": [
    "# \"(PERSON Zuzanna/NNP)\" is NLTK's Tree object\n",
    "# if something was not marked as entity, it will be a tuple, e.g. \"earned/VBD\""
   ]
  },
  {
   "cell_type": "code",
   "execution_count": 4,
   "metadata": {},
   "outputs": [],
   "source": [
    "from nltk.tree import Tree\n",
    "\n",
    "def anonymize_names(text):\n",
    "    tokens = word_tokenize(text)\n",
    "    pos_taggs = pos_tag(tokens)\n",
    "    entities = ne_chunk(pos_taggs)\n",
    "    \n",
    "    result = \"\"\n",
    "    for ent in entities:\n",
    "        if isinstance(ent, Tree):\n",
    "            # if it is a Tree object, it was marked as entity\n",
    "            leaf = ent.pos()[0]\n",
    "            # leaf looks like this: (('Zuzanna', 'NNP'), 'PERSON')\n",
    "            if leaf[1] == 'PERSON':\n",
    "                result += \"%SECRET% \"\n",
    "            else:\n",
    "                result += leaf[0][0] + \" \"\n",
    "                \n",
    "        else:\n",
    "            # if it is not a Tree object, it was not marked as entity - add to result\n",
    "            result += ent[0] + \" \"\n",
    "    return result   \n"
   ]
  },
  {
   "cell_type": "code",
   "execution_count": 5,
   "metadata": {},
   "outputs": [
    {
     "name": "stdout",
     "output_type": "stream",
     "text": [
      "%SECRET% %SECRET% earned 42 dollars selling 2 shares of Google in 2018 \n"
     ]
    }
   ],
   "source": [
    "anonymized = anonymize_names(text)\n",
    "print(anonymized)"
   ]
  },
  {
   "cell_type": "code",
   "execution_count": 6,
   "metadata": {},
   "outputs": [
    {
     "name": "stdout",
     "output_type": "stream",
     "text": [
      "There was %SECRET% singing \n"
     ]
    }
   ],
   "source": [
    "print(anonymize_names(\"There was Barack Obama singing\"))"
   ]
  },
  {
   "cell_type": "code",
   "execution_count": null,
   "metadata": {},
   "outputs": [],
   "source": []
  }
 ],
 "metadata": {
  "kernelspec": {
   "display_name": "ner_comparisson",
   "language": "python",
   "name": "ner_comparisson"
  },
  "language_info": {
   "codemirror_mode": {
    "name": "ipython",
    "version": 3
   },
   "file_extension": ".py",
   "mimetype": "text/x-python",
   "name": "python",
   "nbconvert_exporter": "python",
   "pygments_lexer": "ipython3",
   "version": "3.5.2"
  }
 },
 "nbformat": 4,
 "nbformat_minor": 2
}
