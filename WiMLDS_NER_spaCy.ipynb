{
 "cells": [
  {
   "cell_type": "markdown",
   "metadata": {},
   "source": [
    "# Named Entity Recognition in spaCy\n",
    "\n",
    "https://spacy.io/usage/linguistic-features#section-named-entities\n",
    "\n",
    "https://spacy.io/api/annotation\n",
    "\n",
    "Statistical models: https://spacy.io/usage/models\n",
    "\n",
    "Built-in entity types: https://spacy.io/usage/linguistic-features#entity-types"
   ]
  },
  {
   "cell_type": "code",
   "execution_count": 1,
   "metadata": {
    "scrolled": true
   },
   "outputs": [
    {
     "name": "stderr",
     "output_type": "stream",
     "text": [
      "/home/kunizu/PycharmProjects/ner_comparisson/lib/python3.5/importlib/_bootstrap.py:222: RuntimeWarning: numpy.dtype size changed, may indicate binary incompatibility. Expected 96, got 88\n",
      "  return f(*args, **kwds)\n",
      "/home/kunizu/PycharmProjects/ner_comparisson/lib/python3.5/importlib/_bootstrap.py:222: RuntimeWarning: numpy.ufunc size changed, may indicate binary incompatibility. Expected 192, got 176\n",
      "  return f(*args, **kwds)\n",
      "/home/kunizu/PycharmProjects/ner_comparisson/lib/python3.5/importlib/_bootstrap.py:222: RuntimeWarning: numpy.dtype size changed, may indicate binary incompatibility. Expected 96, got 88\n",
      "  return f(*args, **kwds)\n",
      "/home/kunizu/PycharmProjects/ner_comparisson/lib/python3.5/importlib/_bootstrap.py:222: RuntimeWarning: numpy.ufunc size changed, may indicate binary incompatibility. Expected 192, got 176\n",
      "  return f(*args, **kwds)\n"
     ]
    }
   ],
   "source": [
    "import spacy\n",
    "\n",
    "text = \"Zuzanna Kocur earned 42 dollars selling 2 shares of Google in 2018\"\n"
   ]
  },
  {
   "cell_type": "code",
   "execution_count": 2,
   "metadata": {},
   "outputs": [
    {
     "name": "stderr",
     "output_type": "stream",
     "text": [
      "/home/kunizu/PycharmProjects/ner_comparisson/lib/python3.5/importlib/_bootstrap.py:222: RuntimeWarning: numpy.dtype size changed, may indicate binary incompatibility. Expected 96, got 88\n",
      "  return f(*args, **kwds)\n",
      "/home/kunizu/PycharmProjects/ner_comparisson/lib/python3.5/importlib/_bootstrap.py:222: RuntimeWarning: numpy.ufunc size changed, may indicate binary incompatibility. Expected 192, got 176\n",
      "  return f(*args, **kwds)\n"
     ]
    }
   ],
   "source": [
    "# load chosen statistical model into pipeline (Language object)\n",
    "nlp_md = spacy.load('en_core_web_md')\n",
    "\n",
    "# choose different statistical model\n",
    "nlp_sm = spacy.load('en_core_web_sm')"
   ]
  },
  {
   "cell_type": "code",
   "execution_count": 3,
   "metadata": {},
   "outputs": [],
   "source": [
    "def print_prediction(text, nlp):\n",
    "    # apply the pipeline to the text - creating Doc object\n",
    "    doc = nlp(text)\n",
    "    \n",
    "    # named entities -> ents property of a Doc object\n",
    "    for ent in doc.ents:\n",
    "        print(ent.text, \"-\", ent.label_)\n",
    "     "
   ]
  },
  {
   "cell_type": "code",
   "execution_count": 4,
   "metadata": {},
   "outputs": [
    {
     "name": "stdout",
     "output_type": "stream",
     "text": [
      "Results en_core_web_md\n",
      "Zuzanna Kocur - PERSON\n",
      "42 dollars - MONEY\n",
      "2 - CARDINAL\n",
      "Google - ORG\n",
      "2018 - DATE\n",
      "\n",
      "Results en_core_web_sm\n",
      "Zuzanna Kocur - PERSON\n",
      "42 dollars - MONEY\n",
      "2 - CARDINAL\n",
      "Google - ORG\n",
      "2018 - DATE\n"
     ]
    }
   ],
   "source": [
    "print('Results en_core_web_md')\n",
    "print_prediction(text, nlp_md)\n",
    "\n",
    "print()\n",
    "\n",
    "print('Results en_core_web_sm')\n",
    "print_prediction(text, nlp_sm)"
   ]
  },
  {
   "cell_type": "code",
   "execution_count": 5,
   "metadata": {},
   "outputs": [],
   "source": [
    "def anonymize_names(text, nlp):\n",
    "    doc = nlp(text)\n",
    "    \n",
    "    for ent in doc.ents:\n",
    "        if ent.label_ == \"PERSON\":\n",
    "            text = text[:ent.start_char] + \"%SECRET%\" + text[ent.end_char:]            \n",
    "    return text\n",
    "            "
   ]
  },
  {
   "cell_type": "code",
   "execution_count": 6,
   "metadata": {},
   "outputs": [
    {
     "name": "stdout",
     "output_type": "stream",
     "text": [
      "%SECRET% earned 42 dollars selling 2 shares of Google in 2018\n"
     ]
    }
   ],
   "source": [
    "anonymized = anonymize_names(text, nlp_md)\n",
    "print(anonymized)"
   ]
  },
  {
   "cell_type": "code",
   "execution_count": 7,
   "metadata": {},
   "outputs": [
    {
     "name": "stdout",
     "output_type": "stream",
     "text": [
      "There was %SECRET% singing\n"
     ]
    }
   ],
   "source": [
    "print(anonymize_names(\"There was Barack Obama singing\", nlp_md))"
   ]
  },
  {
   "cell_type": "code",
   "execution_count": 8,
   "metadata": {},
   "outputs": [
    {
     "name": "stdout",
     "output_type": "stream",
     "text": [
      "Green Day - DATE\n",
      "American Idiot - WORK_OF_ART\n",
      "\n",
      "Green Day - DATE\n",
      "American - NORP\n"
     ]
    }
   ],
   "source": [
    "print_prediction(\"Green Day recorded American Idiot\", nlp_sm)\n",
    "print()\n",
    "print_prediction(\"Green Day recorded American Idiot\", nlp_md)"
   ]
  },
  {
   "cell_type": "code",
   "execution_count": 9,
   "metadata": {},
   "outputs": [
    {
     "name": "stdout",
     "output_type": "stream",
     "text": [
      "Mona Lisa - PERSON\n",
      "Louvre - FAC\n",
      "\n",
      "Mona Lisa - PERSON\n",
      "Louvre - GPE\n"
     ]
    }
   ],
   "source": [
    "print_prediction(\"Mona Lisa is a nice painting in Louvre\", nlp_sm)\n",
    "print()\n",
    "print_prediction(\"Mona Lisa is a nice painting in Louvre\", nlp_md)"
   ]
  },
  {
   "cell_type": "code",
   "execution_count": 10,
   "metadata": {},
   "outputs": [
    {
     "name": "stdout",
     "output_type": "stream",
     "text": [
      "Leonardo Da Vinci - PERSON\n",
      "Mona Lisa - PERSON\n",
      "\n",
      "Leonardo Da Vinci - PERSON\n",
      "Mona Lisa - PERSON\n"
     ]
    }
   ],
   "source": [
    "print_prediction(\"Leonardo Da Vinci painted Mona Lisa\", nlp_sm)\n",
    "print()\n",
    "print_prediction(\"Leonardo Da Vinci painted Mona Lisa\", nlp_md)"
   ]
  },
  {
   "cell_type": "code",
   "execution_count": 12,
   "metadata": {},
   "outputs": [
    {
     "name": "stdout",
     "output_type": "stream",
     "text": [
      "Zuzanna Computer-Table - PERSON\n",
      "Mona Lisa - PERSON\n",
      "\n",
      "Zuzanna Computer-Table - PERSON\n",
      "Mona Lisa - PERSON\n"
     ]
    }
   ],
   "source": [
    "print_prediction(\"Zuzanna Computer-Table painted Mona Lisa\", nlp_sm)\n",
    "print()\n",
    "print_prediction(\"Zuzanna Computer-Table painted Mona Lisa\", nlp_md)"
   ]
  },
  {
   "cell_type": "code",
   "execution_count": null,
   "metadata": {},
   "outputs": [],
   "source": []
  }
 ],
 "metadata": {
  "kernelspec": {
   "display_name": "ner_comparisson",
   "language": "python",
   "name": "ner_comparisson"
  },
  "language_info": {
   "codemirror_mode": {
    "name": "ipython",
    "version": 3
   },
   "file_extension": ".py",
   "mimetype": "text/x-python",
   "name": "python",
   "nbconvert_exporter": "python",
   "pygments_lexer": "ipython3",
   "version": "3.5.2"
  }
 },
 "nbformat": 4,
 "nbformat_minor": 2
}
