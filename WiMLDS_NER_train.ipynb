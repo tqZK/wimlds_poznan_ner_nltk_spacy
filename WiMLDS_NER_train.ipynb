{
 "cells": [
  {
   "cell_type": "code",
   "execution_count": 2,
   "metadata": {},
   "outputs": [],
   "source": [
    "# source: https://github.com/explosion/spacy/blob/master/examples/training/train_new_entity_type.py\n",
    "import warnings\n",
    "warnings.filterwarnings(\"ignore\")\n",
    "\n",
    "import random\n",
    "from pathlib import Path\n",
    "import spacy\n",
    "\n",
    "\n",
    "# new entity label\n",
    "LABEL = 'ANIMAL'\n",
    "n_iter = 20\n",
    "new_model_name = 'animal'"
   ]
  },
  {
   "cell_type": "code",
   "execution_count": 3,
   "metadata": {},
   "outputs": [],
   "source": [
    "# training data\n",
    "# Note: If you're using an existing model, make sure to mix in examples of\n",
    "# other entity types that spaCy correctly recognized before. Otherwise, your\n",
    "# model might learn the new type, but \"forget\" what it previously knew.\n",
    "TRAIN_DATA = [\n",
    "    (\"Horses are too tall and they pretend to care about your feelings\", {\n",
    "        'entities': [(0, 6, 'ANIMAL')]\n",
    "    }),\n",
    "\n",
    "    (\"Do they bite?\", {\n",
    "        'entities': []\n",
    "    }),\n",
    "\n",
    "    (\"horses are too tall and they pretend to care about your feelings\", {\n",
    "        'entities': [(0, 6, 'ANIMAL')]\n",
    "    }),\n",
    "\n",
    "    (\"horses pretend to care about your feelings\", {\n",
    "        'entities': [(0, 6, 'ANIMAL')]\n",
    "    }),\n",
    "\n",
    "    (\"they pretend to care about your feelings, those horses\", {\n",
    "        'entities': [(48, 54, 'ANIMAL')]\n",
    "    }),\n",
    "\n",
    "    (\"horses?\", {\n",
    "        'entities': [(0, 6, 'ANIMAL')]\n",
    "    })\n",
    "]"
   ]
  },
  {
   "cell_type": "code",
   "execution_count": 4,
   "metadata": {},
   "outputs": [
    {
     "name": "stdout",
     "output_type": "stream",
     "text": [
      "Warning: Unnamed vectors -- this won't allow multiple vectors models to be loaded. (Shape: (0, 0))\n"
     ]
    }
   ],
   "source": [
    "# create blank Language class\n",
    "nlp = spacy.blank('en')\n",
    "\n",
    "# nlp.create_pipe works for built-ins that are registered with spaCy\n",
    "# create pipeline\n",
    "ner = nlp.create_pipe('ner')\n",
    "nlp.add_pipe(ner)\n",
    "\n",
    "# add new entity label to entity recognizer\n",
    "ner.add_label(LABEL)   \n",
    "# prepare for training - preprocessing, creating optimizer\n",
    "optimizer = nlp.begin_training()\n"
   ]
  },
  {
   "cell_type": "code",
   "execution_count": 5,
   "metadata": {},
   "outputs": [
    {
     "name": "stdout",
     "output_type": "stream",
     "text": [
      "{'ner': 22.53822418953619}\n",
      "{'ner': 4.208199911431277}\n",
      "{'ner': 4.449946057009506}\n",
      "{'ner': 0.0036542861775723415}\n",
      "{'ner': 1.8907879911256948}\n",
      "{'ner': 1.1650205795862946e-05}\n",
      "{'ner': 0.618101441567477}\n",
      "{'ner': 0.0004006197051601455}\n",
      "{'ner': 7.777732594995193e-08}\n",
      "{'ner': 0.0003964712086599656}\n",
      "{'ner': 2.124084202219681e-08}\n",
      "{'ner': 1.5069610619002138e-15}\n",
      "{'ner': 1.840358264956125}\n",
      "{'ner': 0.0008784232842263698}\n",
      "{'ner': 6.015378403685215e-06}\n",
      "{'ner': 0.008246748739679788}\n",
      "{'ner': 9.697466031529106e-17}\n",
      "{'ner': 6.40385654895844e-19}\n",
      "{'ner': 6.762641629381138e-19}\n",
      "{'ner': 3.863779321510275e-11}\n"
     ]
    }
   ],
   "source": [
    "for itn in range(n_iter):\n",
    "    random.shuffle(TRAIN_DATA)\n",
    "    losses = {}\n",
    "    for text, annotations in TRAIN_DATA:\n",
    "        # update models \n",
    "        nlp.update([text], [annotations], sgd=optimizer, drop=0.35,\n",
    "                           losses=losses)\n",
    "    print(losses)\n"
   ]
  },
  {
   "cell_type": "code",
   "execution_count": 6,
   "metadata": {},
   "outputs": [
    {
     "name": "stdout",
     "output_type": "stream",
     "text": [
      "Entities in 'Do you like horses?'\n",
      "ANIMAL horses\n"
     ]
    }
   ],
   "source": [
    "test_text = 'Do you like horses?'\n",
    "doc = nlp(test_text)\n",
    "print(\"Entities in '%s'\" % test_text)\n",
    "for ent in doc.ents:\n",
    "    print(ent.label_, ent.text)\n"
   ]
  },
  {
   "cell_type": "code",
   "execution_count": null,
   "metadata": {},
   "outputs": [],
   "source": []
  },
  {
   "cell_type": "code",
   "execution_count": null,
   "metadata": {},
   "outputs": [],
   "source": []
  }
 ],
 "metadata": {
  "kernelspec": {
   "display_name": "ner_comparisson",
   "language": "python",
   "name": "ner_comparisson"
  },
  "language_info": {
   "codemirror_mode": {
    "name": "ipython",
    "version": 3
   },
   "file_extension": ".py",
   "mimetype": "text/x-python",
   "name": "python",
   "nbconvert_exporter": "python",
   "pygments_lexer": "ipython3",
   "version": "3.5.2"
  }
 },
 "nbformat": 4,
 "nbformat_minor": 2
}
